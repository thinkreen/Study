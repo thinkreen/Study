{
 "cells": [
  {
   "cell_type": "markdown",
   "metadata": {},
   "source": [
    "# Markdown Cheatsheet\n",
    "This is intended as a quick reference and showcase for Markdown.\n",
    "For more cheatsheet, check [Adam-P Markdown Cheatsheet](https://github.com/adam-p/markdown-here/wiki/Markdown-Cheatsheet)\n",
    "\n",
    "**Table of Contents**\n",
    "+ Shortcuts\n",
    "+ Headers\n",
    "+ Emphasis\n",
    "+ Code and Syntax Highlighting\n",
    "+ Math expressions\n",
    "\n",
    "\n"
   ]
  },
  {
   "cell_type": "markdown",
   "metadata": {},
   "source": [
    "## Notebook shortcuts\n",
    "\n",
    " `escape` key: changes to command mode \n",
    "<br>`escape` then `s`: shortcut for \"save\"\n",
    "<br>`escape` then `y`: switch to code cell\n",
    "<br>`escape` then `m`: switch to Markdown cell\n",
    "<br>`Shift + Enter`: run code cells\n"
   ]
  },
  {
   "cell_type": "markdown",
   "metadata": {},
   "source": [
    "## Headers\n",
    "Put 1-6 hash marks(#) at the beginning of the line\n",
    "\n",
    "```\n",
    "# Header 1 \n",
    "## Header 2 \n",
    "### Header 3\n",
    "```\n",
    "renders as\n",
    "\n",
    "# Header 1 \n",
    "## Header 2 \n",
    "### Header 3"
   ]
  },
  {
   "cell_type": "markdown",
   "metadata": {},
   "source": [
    "## Emphasis\n",
    "\n",
    "+ For bold, wrap the text in two asterisks or underscores (```**bold** or __bold__```) renders as **bold**\n",
    "+ For italics, wrap the text in one asterisk or underscore (```*italic* or _italic_```) renders as *italic*\n",
    "+ For strikethrough, wrap the text in two tildes (```~~strikethrough~~```) renders as ~~strikethrough~~"
   ]
  },
  {
   "cell_type": "markdown",
   "metadata": {},
   "source": [
    "## Code and Syntax Highlighting\n",
    "1. code\n",
    "    + start a new line and wrap the text in three backticks.\n",
    "    + indent each line of the code block with four spaces.\n",
    "\n",
    "2. Syntax Highlighting\n",
    "    ``` \n",
    "    `sysntax highlighting` \n",
    "    ```\n",
    "    renders as `sysntax highlighting`"
   ]
  },
  {
   "cell_type": "markdown",
   "metadata": {},
   "source": [
    "## Math expressions\n",
    "\n",
    "Create math expressions in Markdown cells using LaTeX symbols. \n",
    "\n",
    "    $y = mx + b$\n",
    "renders as $y = mx + b$"
   ]
  },
  {
   "cell_type": "markdown",
   "metadata": {},
   "source": []
  }
 ],
 "metadata": {
  "kernelspec": {
   "display_name": "Python 3",
   "language": "python",
   "name": "python3"
  },
  "language_info": {
   "codemirror_mode": {
    "name": "ipython",
    "version": 3
   },
   "file_extension": ".py",
   "mimetype": "text/x-python",
   "name": "python",
   "nbconvert_exporter": "python",
   "pygments_lexer": "ipython3",
   "version": "3.7.6"
  }
 },
 "nbformat": 4,
 "nbformat_minor": 4
}
