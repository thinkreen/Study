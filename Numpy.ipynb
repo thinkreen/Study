{
 "cells": [
  {
   "cell_type": "markdown",
   "metadata": {},
   "source": [
    "# Numpy 기본\n",
    "\n",
    "\n",
    "Numpy(Numerical python)는 파이썬 수학 라이브러리이다. 사용하기 편하지만 다른 프로그래밍언어에 비해 느리다는 단점때문에 복잡한 수학연산 등에 적합하지 않은데, Numpy는 이런 단점을 보완하여 빠른 연산을 제공한다."
   ]
  },
  {
   "cell_type": "markdown",
   "metadata": {},
   "source": [
    "## 기본 사용법"
   ]
  },
  {
   "cell_type": "markdown",
   "metadata": {},
   "source": [
    "### Import\n",
    "\n",
    "```\n",
    "import numpy as np\n",
    "```"
   ]
  },
  {
   "cell_type": "markdown",
   "metadata": {},
   "source": [
    "### Data Types\n",
    "Numpy는 보통 `ndarray` 객체를 사용하여 연산을 수행함.\n",
    "데이터의 차원에 따라 *Scala(1-dim), Vector(2-dim), Matrix(3-dim), Tensor(N-dim)*으로 표현함\n",
    "\n",
    "+ Scala (1-dim)\n",
    "```\n",
    "s = np.array(5)\n",
    "s.shape     renders as ()\n",
    "w = s + 3\n",
    "print(w)    renders as 8\n",
    "```\n",
    "\n",
    "+ Vector (2-dim)\n",
    "```\n",
    "v = np.array([1,2,3])\n",
    "v.shape     renders as (3,)\n",
    "x = v[1]\n",
    "print(x)    renders as 2\n",
    "```\n",
    "\n",
    "+ Matrix (3-dim)\n",
    "```\n",
    "m = np.array([[1,2,3],[4,5,6],[7,8,9]])\n",
    "m.shape     renders as (3,3)\n",
    "y = m[1][2]\n",
    "print(y)    renders as 6\n",
    "```\n",
    "\n",
    "+ Tensor (N-dim)\n",
    "```\n",
    "t = np.array([[[[1],[2]],[[3],[4]],[[5],[6]]],[[[7],[8]], [[9],[10]],[[11],[12]]],[[[13],[14]],[[15],[16]],[[17],[17]]]])\n",
    "t.shape     renders as (3,3,2,1)\n",
    "z = t[2][1][1][0]\n",
    "print(z)    renders as 16\n",
    "```\n"
   ]
  },
  {
   "cell_type": "markdown",
   "metadata": {},
   "source": [
    "### Operations\n",
    "\n",
    "+ Vector의 덧셈, 곱셈\n",
    "<br>기본적으로 Element-wise 연산을 수행.\n",
    "    ```\n",
    "    values = [1,2,3,4,5]\n",
    "    values = np.array(values) + 5     renders as [6,7,8,9,10]\n",
    "    x = np.multiply(values, 5)        renders as [5,10,15,20,25]\n",
    "    y = np.array(values)*5            renders as [5,10,15,20,25]\n",
    "    ```\n",
    "\n",
    "+ Matrix 곱셈\n",
    "<br>Matrix의 곱셈은 Matmul 함수를 사용.\n",
    "    ```\n",
    "    a = np.array([[1,2,3,4],[5,6,7,8]])\n",
    "    a.shape     renders as (2,4)\n",
    "    b = np.array([[1,2,3],[4,5,6],[7,8,9],[11,12,13]])\n",
    "    b.shape     renders as (4,3)\n",
    "    c = np.matmul(a,b)\n",
    "    c.shape     renders as (2,3)\n",
    "    ```\n",
    "<br>만약 곱하는 두 행렬이 2차원이라면, 아래와 같이 `dot` 함수도 같은 기능을 함.\n",
    "    ```\n",
    "    d = np.dot(a,b)\n",
    "    d.shape     renders as (2,3)\n",
    "    ```\n",
    "\n",
    "+ Transpose\n",
    "<br> 행렬의 row와 col을 바꾸는 연산 `.T`을 사용.\n",
    "    ```\n",
    "    m = np.array([[1,2,3,4],[5,6,7,8],[9,10,11,12]])\n",
    "    m.shape     renders as (3,4)\n",
    "    n = m.T\n",
    "    n.shape     renders as (4,3)\n",
    "    ```\n"
   ]
  },
  {
   "cell_type": "code",
   "execution_count": null,
   "metadata": {},
   "outputs": [],
   "source": []
  }
 ],
 "metadata": {
  "kernelspec": {
   "display_name": "Python 3",
   "language": "python",
   "name": "python3"
  },
  "language_info": {
   "codemirror_mode": {
    "name": "ipython",
    "version": 3
   },
   "file_extension": ".py",
   "mimetype": "text/x-python",
   "name": "python",
   "nbconvert_exporter": "python",
   "pygments_lexer": "ipython3",
   "version": "3.7.6"
  }
 },
 "nbformat": 4,
 "nbformat_minor": 2
}
